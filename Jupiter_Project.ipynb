{
 "cells": [
  {
   "cell_type": "markdown",
   "id": "2bd02ddd-023b-4401-9191-23d138050ba0",
   "metadata": {},
   "source": [
    "#Jupiter Project"
   ]
  },
  {
   "cell_type": "markdown",
   "id": "115625e7-a445-4bdd-b385-62918458ae80",
   "metadata": {},
   "source": [
    "#This project will contain my answers to various exercises"
   ]
  },
  {
   "cell_type": "markdown",
   "id": "207c00f0-a5f7-4486-afd1-110f26976199",
   "metadata": {},
   "source": [
    "#Data Science Languages:\n",
    "Python\n",
    "R\n",
    "Java\n",
    "C++"
   ]
  },
  {
   "cell_type": "markdown",
   "id": "f5664c5f-7de0-4a4c-b870-54edfff1d202",
   "metadata": {},
   "source": [
    "#Data science libraries:\n",
    "NumPy\n",
    "Matplotlib\n",
    "Pandas\n",
    "Scikit-Learn"
   ]
  },
  {
   "cell_type": "markdown",
   "id": "42d99f44-8c7e-44aa-affa-fae40229378f",
   "metadata": {},
   "source": [
    "#Data science tools:\n",
    "| Tool          | Description                       |\n",
    "|---------------|-----------------------------------|\n",
    "| Jupyter       | Interactive coding notebooks      |\n",
    "| RStudio       | IDE for R programming             |\n",
    "| Apache Spark  | Distributed data processing       |\n",
    "| Tableau       | Data visualization                |\n"
   ]
  },
  {
   "cell_type": "markdown",
   "id": "a94422a6-5bd5-43c7-b945-2dc9855c5da6",
   "metadata": {},
   "source": [
    "Here are examples of arithmetic expressions"
   ]
  },
  {
   "cell_type": "code",
   "execution_count": 1,
   "id": "f9f31424-fc31-4d91-9e81-cd9e945930b5",
   "metadata": {},
   "outputs": [
    {
     "data": {
      "text/plain": [
       "34"
      ]
     },
     "execution_count": 1,
     "metadata": {},
     "output_type": "execute_result"
    }
   ],
   "source": [
    "number = 3 * 8 + 10\n",
    "number"
   ]
  },
  {
   "cell_type": "code",
   "execution_count": 3,
   "id": "0fac99ee-d1c1-4d07-b670-90656b0abb97",
   "metadata": {},
   "outputs": [
    {
     "data": {
      "text/plain": [
       "2.0"
      ]
     },
     "execution_count": 3,
     "metadata": {},
     "output_type": "execute_result"
    }
   ],
   "source": [
    "minutes = 120\n",
    "hours = minutes / 60\n",
    "hours"
   ]
  },
  {
   "cell_type": "markdown",
   "id": "5bdbe4f1-c970-4b5c-ac54-dc55cb9c2e44",
   "metadata": {},
   "source": [
    "Objectives of this assignment:\n",
    "understand the basics of data sciece\n",
    "become familiar with Python, R"
   ]
  },
  {
   "cell_type": "markdown",
   "id": "96281208-04bf-4f2a-84b1-941ce31c8b8c",
   "metadata": {},
   "source": [
    "Author's name:\n",
    "Fedor Markizov"
   ]
  }
 ],
 "metadata": {
  "kernelspec": {
   "display_name": "Python 3 (ipykernel)",
   "language": "python",
   "name": "python3"
  },
  "language_info": {
   "codemirror_mode": {
    "name": "ipython",
    "version": 3
   },
   "file_extension": ".py",
   "mimetype": "text/x-python",
   "name": "python",
   "nbconvert_exporter": "python",
   "pygments_lexer": "ipython3",
   "version": "3.12.4"
  }
 },
 "nbformat": 4,
 "nbformat_minor": 5
}
